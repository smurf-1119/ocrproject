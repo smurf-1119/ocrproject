{
 "cells": [
  {
   "cell_type": "code",
   "execution_count": 7,
   "metadata": {},
   "outputs": [],
   "source": [
    "import cv2\n",
    "import json\n",
    "import os\n",
    "from tqdm import tqdm\n",
    "import matplotlib.pyplot as plt"
   ]
  },
  {
   "cell_type": "code",
   "execution_count": 8,
   "metadata": {},
   "outputs": [],
   "source": [
    "dataset_dir = './AEC'\n",
    "category = {\n",
    "    'train':{\n",
    "        'img':'.\\\\AEC_recognition\\\\train\\\\img',\n",
    "        'labels':'.\\\\AEC_recognition\\\\train\\\\labels.json'\n",
    "    },\n",
    "    'validation':{\n",
    "        'img':\".\\\\AEC_recognition\\\\validation\\\\img\",\n",
    "        'labels':'.\\\\AEC_recognition\\\\validation\\\\labels.json'\n",
    "    }\n",
    "}\n",
    "minival_dataset = './minival2014'\n",
    "label_file_names = os.listdir(dataset_dir)\n",
    "minival_dataset_names = os.listdir(minival_dataset)\n",
    "image_file_names = [name for name in label_file_names if name.endswith('.jpg')]\n",
    "trainval_file_name = [name for name in label_file_names if name.endswith('rec')]\n",
    "minival_file_name = [name for name in minival_dataset_names if name.endswith('jpg')]"
   ]
  },
  {
   "cell_type": "code",
   "execution_count": 9,
   "metadata": {},
   "outputs": [
    {
     "name": "stdout",
     "output_type": "stream",
     "text": [
      "['11*5=55 165 74 345 142 1', '12*3=36 165 160 339 212 1', '13*5=65 163 226 353 272 1', '14*6=84 172 293 357 366 1', '15*7=105 172 369 364 418 1', '16*8=128 172 435 462 486 1', '17*9=153 607 107 791 173 1', '18*6=108 609 183 803 231 1', '19*7=133 613 248 791 301 1', '21*3=63 609 320 781 381 1', '22*5=110 607 390 781 447 1', '23*5=115 609 458 805 525 1', '24*6=144 1063 156 1274 216 1', '25*7=175 1065 234 1261 288 1', '28*6=168 1067 302 1251 354 1', '26*8=188 1065 378 1251 430 1', '27*9=243 1061 456 1267 504 1', '29*7=203 1061 527 1280 584 1', '301*3*3>910 176 700 435 749 1', '17*2*4<160 180 776 419 822 1', '18*9*3<540 184 852 427 896 1', '320*2*4<2400 917 764 1210 853 1', '198*3*7<4200 919 854 1210 927 1', '191*4*5>3800 917 934 1210 1009 1', '4*9=36 354 1263 553 1336 1', '36*2=72 336 1324 582 1408 1', '74*6=444 903 1376 1107 1463 1', '449*2=888 912 1442 1193 1532 1']\n"
     ]
    }
   ],
   "source": [
    "def getLabel(label_file_name):\n",
    "    labels = {}\n",
    "    for name in label_file_name:\n",
    "        with open(os.path.join('./AEC', name), encoding='utf-8') as f:\n",
    "            label = f.read().split('\\n')\n",
    "            labels[name[:-4]] = label\n",
    "    return labels\n",
    "\n",
    "trainval_labels = getLabel(trainval_file_name)\n",
    "print(trainval_labels['aec_0'])"
   ]
  },
  {
   "cell_type": "code",
   "execution_count": 10,
   "metadata": {},
   "outputs": [],
   "source": [
    "def imshow(image):\n",
    "    img = cv2.cvtColor(image,cv2.COLOR_BGR2RGB)\n",
    "    plt.imshow(img)\n",
    "    plt.show()"
   ]
  },
  {
   "cell_type": "code",
   "execution_count": 11,
   "metadata": {},
   "outputs": [],
   "source": [
    "def save(key,value,file_name,mode,labels):  \n",
    "    img_save_path = category[mode]['img']  \n",
    "    img = cv2.imread(file_name)\n",
    "    # image_id = int(key[key.index('_')+1:])\n",
    "    for i in range(len(value)):\n",
    "        element = value[i].split(' ')\n",
    "        if element[0] == '' or len(element) == 0:\n",
    "            continue\n",
    "        else:\n",
    "            x1,y1,x2,y2 = int(element[1]),int(element[2]),int(element[3]),int(element[4])\n",
    "            crop_image = img[y1:y2+1,x1:x2+1]\n",
    "            crop_image_name = key+'_'+str(i)+'.jpg'\n",
    "            crop_file_path = os.path.join(img_save_path,crop_image_name)\n",
    "            label = {\n",
    "                'image_path':crop_image_name,\n",
    "                'label':element[0]\n",
    "            }\n",
    "            try:\n",
    "                cv2.imwrite(crop_file_path,crop_image)\n",
    "            except:\n",
    "                print(crop_image_name)\n",
    "                continue\n",
    "            labels.append(label)"
   ]
  },
  {
   "cell_type": "code",
   "execution_count": 12,
   "metadata": {},
   "outputs": [
    {
     "name": "stderr",
     "output_type": "stream",
     "text": [
      " 10%|#         | 514/5000 [00:09<01:35, 47.08it/s]"
     ]
    },
    {
     "name": "stdout",
     "output_type": "stream",
     "text": [
      "aec_1457_7.jpg\n"
     ]
    },
    {
     "name": "stderr",
     "output_type": "stream",
     "text": [
      " 78%|#######7  | 3884/5000 [01:13<00:22, 49.10it/s]"
     ]
    },
    {
     "name": "stdout",
     "output_type": "stream",
     "text": [
      "aec_4485_27.jpg\n"
     ]
    },
    {
     "name": "stderr",
     "output_type": "stream",
     "text": [
      " 90%|######### | 4520/5000 [01:25<00:06, 69.19it/s]"
     ]
    },
    {
     "name": "stdout",
     "output_type": "stream",
     "text": [
      "aec_561_15.jpg\n"
     ]
    },
    {
     "name": "stderr",
     "output_type": "stream",
     "text": [
      "100%|##########| 5000/5000 [01:34<00:00, 53.01it/s]\n"
     ]
    },
    {
     "name": "stdout",
     "output_type": "stream",
     "text": [
      "finish\n"
     ]
    }
   ],
   "source": [
    "def generation(labels):\n",
    "    train_data = {}\n",
    "    validation_data = {}\n",
    "    train_labels = []\n",
    "    validation_labels = []\n",
    "    for key,value in tqdm(labels.items(),total=len(labels),ascii=True):\n",
    "        file_name = os.path.join(dataset_dir,key+'.jpg')\n",
    "        if key+'.jpg' in minival_file_name:\n",
    "            save(key,value,file_name,'validation',validation_labels)\n",
    "        else:\n",
    "            save(key,value,file_name,'train',train_labels)\n",
    "    train_data['labels'] = train_labels\n",
    "    validation_data['labels'] = validation_labels\n",
    "    train_labels_path = category['train']['labels']\n",
    "    validation_labels_path = category['validation']['labels']\n",
    "    with open(train_labels_path,'w') as f:\n",
    "        json.dump(train_data,f,indent=2)\n",
    "    with open(validation_labels_path,'w') as f:\n",
    "        json.dump(validation_data,f,indent=2)\n",
    "    print('finish')\n",
    "generation(trainval_labels)"
   ]
  }
 ],
 "metadata": {
  "interpreter": {
   "hash": "0b44c525ca95e5dbf893da2282eb3ec3f420cb9fa59d94f9af90ca833dc1a37c"
  },
  "kernelspec": {
   "display_name": "Python 3.8.12 64-bit ('pytorch': conda)",
   "language": "python",
   "name": "python3"
  },
  "language_info": {
   "codemirror_mode": {
    "name": "ipython",
    "version": 3
   },
   "file_extension": ".py",
   "mimetype": "text/x-python",
   "name": "python",
   "nbconvert_exporter": "python",
   "pygments_lexer": "ipython3",
   "version": "3.8.12"
  },
  "orig_nbformat": 4
 },
 "nbformat": 4,
 "nbformat_minor": 2
}
