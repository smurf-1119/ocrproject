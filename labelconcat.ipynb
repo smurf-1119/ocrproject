{
 "cells": [
  {
   "cell_type": "code",
   "execution_count": 1,
   "metadata": {},
   "outputs": [],
   "source": [
    "import os\n",
    "import json\n"
   ]
  },
  {
   "cell_type": "code",
   "execution_count": 10,
   "metadata": {},
   "outputs": [],
   "source": [
    "data_dir = './AEC_recognition/labels'\n",
    "label_files = os.listdir(data_dir)\n",
    "label_file_name = [name for name in label_files if name.endswith('json')]\n",
    "data = {}\n",
    "# print(label_file_name[0])"
   ]
  },
  {
   "cell_type": "code",
   "execution_count": 14,
   "metadata": {},
   "outputs": [
    {
     "name": "stdout",
     "output_type": "stream",
     "text": [
      "finish\n"
     ]
    }
   ],
   "source": [
    "labels = []\n",
    "for label_file in label_file_name:\n",
    "    label_path = os.path.join(data_dir,label_file)\n",
    "    with open(label_path,'r') as f:\n",
    "        label = json.load(f)\n",
    "    labels.append(label)\n",
    "data['labels'] = labels\n",
    "with open('./AEC_recognition/labels.json','w') as f:\n",
    "    json.dump(data,f,indent=2)\n",
    "print('finish')\n",
    "\n",
    "\n"
   ]
  }
 ],
 "metadata": {
  "interpreter": {
   "hash": "0b44c525ca95e5dbf893da2282eb3ec3f420cb9fa59d94f9af90ca833dc1a37c"
  },
  "kernelspec": {
   "display_name": "Python 3.8.12 ('pytorch')",
   "language": "python",
   "name": "python3"
  },
  "language_info": {
   "codemirror_mode": {
    "name": "ipython",
    "version": 3
   },
   "file_extension": ".py",
   "mimetype": "text/x-python",
   "name": "python",
   "nbconvert_exporter": "python",
   "pygments_lexer": "ipython3",
   "version": "3.8.12"
  },
  "orig_nbformat": 4
 },
 "nbformat": 4,
 "nbformat_minor": 2
}
